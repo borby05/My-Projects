{
 "cells": [
  {
   "cell_type": "code",
   "execution_count": 2,
   "id": "17882a8b-892c-4dda-8d9b-272511405482",
   "metadata": {},
   "outputs": [
    {
     "name": "stdout",
     "output_type": "stream",
     "text": [
      "Welcome to Adventure Quest!!!\n",
      "You're a brave warrior on a journey through the shadow Forest 💀\n",
      " ('Health:', 100) ('Inventory:', []) ('Score:', 0)\n",
      "Type 'quit' at any time to end your journey.\n",
      "----------------------------------------------------------------------------------------------------------------------------------------------------------------------------------------------------------------------------------------------------------------------\n",
      "You walk cautiously into the forest... \n",
      "You find a mysterious glowing chest! \n",
      "\n"
     ]
    },
    {
     "name": "stdin",
     "output_type": "stream",
     "text": [
      "Do you want to open it?\n",
      "[1] Yes\n",
      "[2] No\n",
      " 2\n"
     ]
    }
   ],
   "source": [
    "import sys\n",
    "import random\n",
    "if len(sys.argv) == 2:\n",
    "    sys.exit()\n",
    "heal = 100\n",
    "invent = []\n",
    "scores = 0\n",
    "def health():\n",
    "    return \"Health:\", heal\n",
    "def Inventory():\n",
    "    return \"Inventory:\", invent\n",
    "def Score ():\n",
    "    return \"Score:\", scores\n",
    "def intro():\n",
    "    print(\"Welcome to Adventure Quest!!!\\n\"\n",
    "    \"You're a brave warrior on a journey through the shadow Forest \\U0001F480\\n\",\n",
    "    health(), Inventory(), Score())\n",
    "intro()\n",
    "print (\"Type 'quit' at any time to end your journey.\\n\"\n",
    "       \"----------------------------------------------------------------------------------------------------------------------------------------------------------------------------------------------------------------------------------------------------------------------\")\n",
    "chests = [\"Healing Potion\", \"Boost\", \"1000-coin\"]\n",
    "chest = random.choice(chests)\n",
    "while True:\n",
    "    print(\"You walk cautiously into the forest... \\n\"\n",
    "            \"You find a mysterious glowing chest! \\n\"\n",
    "            )\n",
    "    ask = input(\"Do you want to open it?\\n\"\n",
    "            \"[1] Yes\\n\"\n",
    "            \"[2] No\\n\")\n",
    "    if ask == '1':\n",
    "        print(\"You found a\", chest)\n",
    "        invent.append(chest)\n",
    "        print(\"Inventory updated:\", invent)\n",
    "        break\n",
    "    elif ask == '2':\n",
    "        break\n",
    "    elif ask == 'quit':\n",
    "       print(\"You were a Hero, Goodbye\")\n",
    "       sys.exit()\n",
    "    else:\n",
    "        print(\"Invalid Choice enter 1 or 2\")\n",
    "    print(\"You Venture deeper into the woods...\")\n",
    "    print(\"A wild Goblin appears! (\\U0001F480 )\")"
   ]
  },
  {
   "cell_type": "code",
   "execution_count": null,
   "id": "1d507d60-227a-4798-ba46-044a633c5b4a",
   "metadata": {},
   "outputs": [],
   "source": []
  }
 ],
 "metadata": {
  "kernelspec": {
   "display_name": "Python 3 (ipykernel)",
   "language": "python",
   "name": "python3"
  },
  "language_info": {
   "codemirror_mode": {
    "name": "ipython",
    "version": 3
   },
   "file_extension": ".py",
   "mimetype": "text/x-python",
   "name": "python",
   "nbconvert_exporter": "python",
   "pygments_lexer": "ipython3",
   "version": "3.13.5"
  }
 },
 "nbformat": 4,
 "nbformat_minor": 5
}
